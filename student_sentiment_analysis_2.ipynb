{
  "nbformat": 4,
  "nbformat_minor": 0,
  "metadata": {
    "colab": {
      "name": "student_sentiment_analysis_2.ipynb",
      "provenance": [],
      "collapsed_sections": []
    },
    "kernelspec": {
      "name": "python3",
      "display_name": "Python 3"
    },
    "language_info": {
      "name": "python"
    }
  },
  "cells": [
    {
      "cell_type": "code",
      "metadata": {
        "id": "U9DMGyox4qPE"
      },
      "source": [
        "# General packages\n",
        "import numpy as np\n",
        "import pandas as pd\n",
        "import seaborn as sns\n",
        "import matplotlib.pyplot as plt\n",
        "import os\n",
        "\n",
        "# NLP packages\n",
        "import nltk\n",
        "from nltk import word_tokenize\n",
        "from sklearn.feature_extraction.text import CountVectorizer\n",
        "from sklearn.feature_extraction.text import TfidfVectorizer\n",
        "from collections import Counter\n",
        "from wordcloud import WordCloud\n",
        "\n",
        "# Modeling packages\n",
        "from sklearn.model_selection import train_test_split\n",
        "from sklearn.linear_model import LogisticRegression\n",
        "from sklearn.ensemble import RandomForestClassifier\n",
        "from sklearn.metrics import accuracy_score\n",
        "from sklearn.metrics import f1_score\n",
        "\n",
        "from pylab import rcParams\n",
        "import warnings\n",
        "warnings.filterwarnings(\"ignore\")\n",
        "rcParams['figure.figsize'] = 14, 6\n",
        "plt.style.use('ggplot')"
      ],
      "execution_count": 1,
      "outputs": []
    },
    {
      "cell_type": "code",
      "metadata": {
        "id": "37pq3PYk4ws8"
      },
      "source": [
        "data = pd.read_csv(\"Data_student.csv\")"
      ],
      "execution_count": 2,
      "outputs": []
    },
    {
      "cell_type": "code",
      "metadata": {
        "colab": {
          "base_uri": "https://localhost:8080/",
          "height": 359
        },
        "id": "AgGdhZcf5Xgy",
        "outputId": "f8b52e99-46b6-415b-9cd4-fcf8a4872cf9"
      },
      "source": [
        "data.head(10)"
      ],
      "execution_count": 4,
      "outputs": [
        {
          "output_type": "execute_result",
          "data": {
            "text/html": [
              "<div>\n",
              "<style scoped>\n",
              "    .dataframe tbody tr th:only-of-type {\n",
              "        vertical-align: middle;\n",
              "    }\n",
              "\n",
              "    .dataframe tbody tr th {\n",
              "        vertical-align: top;\n",
              "    }\n",
              "\n",
              "    .dataframe thead th {\n",
              "        text-align: right;\n",
              "    }\n",
              "</style>\n",
              "<table border=\"1\" class=\"dataframe\">\n",
              "  <thead>\n",
              "    <tr style=\"text-align: right;\">\n",
              "      <th></th>\n",
              "      <th>Unnamed: 0</th>\n",
              "      <th>Question</th>\n",
              "      <th>Answer</th>\n",
              "      <th>Sentiment (Positive / Negative / Neutral / Ambiguous)</th>\n",
              "    </tr>\n",
              "  </thead>\n",
              "  <tbody>\n",
              "    <tr>\n",
              "      <th>0</th>\n",
              "      <td>461129</td>\n",
              "      <td>5) What do you think were the strongest featur...</td>\n",
              "      <td>Having the option to be able to do our work wh...</td>\n",
              "      <td>Positive</td>\n",
              "    </tr>\n",
              "    <tr>\n",
              "      <th>1</th>\n",
              "      <td>62575</td>\n",
              "      <td>Please provide an example and/or explanation t...</td>\n",
              "      <td>The instructor's lectures were clear and organ...</td>\n",
              "      <td>Negative</td>\n",
              "    </tr>\n",
              "    <tr>\n",
              "      <th>2</th>\n",
              "      <td>550133</td>\n",
              "      <td>What did the instructor do well?\\n</td>\n",
              "      <td>The instructor explained the content of the co...</td>\n",
              "      <td>Neutral</td>\n",
              "    </tr>\n",
              "    <tr>\n",
              "      <th>3</th>\n",
              "      <td>185121</td>\n",
              "      <td>Your instructor would like to know whether the...</td>\n",
              "      <td>Overall she did really well. I understood all ...</td>\n",
              "      <td>Ambiguous</td>\n",
              "    </tr>\n",
              "    <tr>\n",
              "      <th>4</th>\n",
              "      <td>384420</td>\n",
              "      <td>Comments:\\n</td>\n",
              "      <td>good\\n</td>\n",
              "      <td>Positive</td>\n",
              "    </tr>\n",
              "    <tr>\n",
              "      <th>5</th>\n",
              "      <td>223095</td>\n",
              "      <td>Please provide an example illustrating how rig...</td>\n",
              "      <td>too demanding of reading material regardless o...</td>\n",
              "      <td>Negative</td>\n",
              "    </tr>\n",
              "    <tr>\n",
              "      <th>6</th>\n",
              "      <td>24264</td>\n",
              "      <td>Please provide any comments about the faculty ...</td>\n",
              "      <td>Dr. &lt;Faculty Name&gt; has poor response skills. h...</td>\n",
              "      <td>Ambiguous</td>\n",
              "    </tr>\n",
              "    <tr>\n",
              "      <th>7</th>\n",
              "      <td>101011</td>\n",
              "      <td>Do you have any comments about the course mate...</td>\n",
              "      <td>No\\n</td>\n",
              "      <td>Neutral</td>\n",
              "    </tr>\n",
              "    <tr>\n",
              "      <th>8</th>\n",
              "      <td>581994</td>\n",
              "      <td>Your instructor would like to know if there is...</td>\n",
              "      <td>Professor was knowledgeable of the topics and ...</td>\n",
              "      <td>Positive</td>\n",
              "    </tr>\n",
              "    <tr>\n",
              "      <th>9</th>\n",
              "      <td>348541</td>\n",
              "      <td>Comments:\\n</td>\n",
              "      <td>&lt;Faculty Name&gt;, you are indeed a born teacher\\n</td>\n",
              "      <td>Positive</td>\n",
              "    </tr>\n",
              "  </tbody>\n",
              "</table>\n",
              "</div>"
            ],
            "text/plain": [
              "   Unnamed: 0  ... Sentiment (Positive / Negative / Neutral / Ambiguous)\n",
              "0      461129  ...                                           Positive   \n",
              "1       62575  ...                                           Negative   \n",
              "2      550133  ...                                            Neutral   \n",
              "3      185121  ...                                          Ambiguous   \n",
              "4      384420  ...                                           Positive   \n",
              "5      223095  ...                                           Negative   \n",
              "6       24264  ...                                          Ambiguous   \n",
              "7      101011  ...                                            Neutral   \n",
              "8      581994  ...                                           Positive   \n",
              "9      348541  ...                                           Positive   \n",
              "\n",
              "[10 rows x 4 columns]"
            ]
          },
          "metadata": {
            "tags": []
          },
          "execution_count": 4
        }
      ]
    },
    {
      "cell_type": "code",
      "metadata": {
        "colab": {
          "base_uri": "https://localhost:8080/",
          "height": 282
        },
        "id": "wvFh5urW5ZZN",
        "outputId": "be6a4f7d-ce23-4894-bce7-da79c8574199"
      },
      "source": [
        "## Getting the number of words by splitting them by a space\n",
        "words_per_review = data.Answer.apply(lambda x: len(x.split(\" \")))\n",
        "words_per_review.hist(bins = 100)\n",
        "plt.xlabel('Review Length (words)')\n",
        "plt.ylabel('Frequency')\n",
        "plt.show()"
      ],
      "execution_count": 6,
      "outputs": [
        {
          "output_type": "display_data",
          "data": {
            "image/png": "[encoded data removed]",
            "text/plain": [
              "<Figure size 432x288 with 1 Axes>"
            ]
          },
          "metadata": {
            "tags": [],
            "needs_background": "light"
          }
        }
      ]
    },
    {
      "cell_type": "code",
      "metadata": {
        "colab": {
          "base_uri": "https://localhost:8080/"
        },
        "id": "K3fETjoP55hQ",
        "outputId": "54dbf555-17a4-4cf5-8371-d2643738f1e0"
      },
      "source": [
        "print('Average words:', words_per_review.mean())\n",
        "print('Skewness:', words_per_review.skew())"
      ],
      "execution_count": 7,
      "outputs": [
        {
          "output_type": "stream",
          "text": [
            "Average words: 24.46485260770975\n",
            "Skewness: 5.474059635163822\n"
          ],
          "name": "stdout"
        }
      ]
    },
    {
      "cell_type": "code",
      "metadata": {
        "colab": {
          "base_uri": "https://localhost:8080/"
        },
        "id": "maWjtKVC5_dh",
        "outputId": "8c5464c9-3557-4aab-b5e3-81551f321ff6"
      },
      "source": [
        "# Let's also look at the distribution of ratings:\n",
        "percent_val = 100 * data['Answer'].value_counts()/len(data)\n",
        "percent_val"
      ],
      "execution_count": 18,
      "outputs": [
        {
          "output_type": "execute_result",
          "data": {
            "text/plain": [
              "<Faculty Name>                                                                                                                                                                                 0.535972\n",
              ".\\n                                                                                                                                                                                            0.371058\n",
              "#NAME?                                                                                                                                                                                         0.329829\n",
              "Nothing\\n                                                                                                                                                                                      0.267986\n",
              "nothing\\n                                                                                                                                                                                      0.267986\n",
              "                                                                                                                                                                                                 ...   \n",
              "The instructor was very knowledgeable on the material. Instructor would also always respond to emails on time and answered any\\nquestions that were asked.\\nAlso, was a very fair grader.\\n    0.020614\n",
              "The amount of resources that were given in class helped\\n                                                                                                                                      0.020614\n",
              "I believe teaching styles could be improved by adding feedback on each case analysis handed back to students.\\n                                                                                0.020614\n",
              "Overall course was taught well, although the beginning half of the semester was rather confusing\\n                                                                                             0.020614\n",
              "I wish there were more in class discussions about each topic and how to write more than just free online writing.\\n                                                                            0.020614\n",
              "Name: Answer, Length: 4666, dtype: float64"
            ]
          },
          "metadata": {
            "tags": []
          },
          "execution_count": 18
        }
      ]
    },
    {
      "cell_type": "code",
      "metadata": {
        "id": "hKm_k_W46XIK"
      },
      "source": [
        "# percent_val.plot.bar()\n",
        "# plt.show()"
      ],
      "execution_count": 19,
      "outputs": []
    },
    {
      "cell_type": "code",
      "metadata": {
        "colab": {
          "base_uri": "https://localhost:8080/",
          "height": 198
        },
        "id": "uO323siX_tBX",
        "outputId": "d1387f4f-a8bb-41d4-dd85-7bce6e538403"
      },
      "source": [
        "# Text visualization using word clouds (word clouds )¶\n",
        "\n",
        "word_cloud_text = ''.join(data['Answer'])\n",
        "\n",
        "wordcloud = WordCloud(max_font_size=100, # Maximum font size for the largest word\n",
        "                      max_words=100, # The maximum number of words\n",
        "                      background_color=\"white\", # Background color for the word cloud image\n",
        "                      scale = 10, # Scaling between computation and drawing\n",
        "                      width=800, # Width of the canvas\n",
        "                      height=400 # Height of the canvas\n",
        "                     ).generate(word_cloud_text)\n",
        "\n",
        "plt.figure()\n",
        "plt.imshow(wordcloud, \n",
        "           interpolation=\"bilinear\") # to make the displayed image appear more smoothly\n",
        "plt.axis(\"off\")\n",
        "plt.show()"
      ],
      "execution_count": 20,
      "outputs": [
        {
          "output_type": "display_data",
          "data": {
            "image/png": "[encoded data removed]",
            "text/plain": [
              "<Figure size 432x288 with 1 Axes>"
            ]
          },
          "metadata": {
            "tags": [],
            "needs_background": "light"
          }
        }
      ]
    },
    {
      "cell_type": "markdown",
      "metadata": {
        "id": "iveXsmL5BMsT"
      },
      "source": [
        "Pre-processing"
      ]
    },
    {
      "cell_type": "code",
      "metadata": {
        "id": "mKeKuMVy6jXY"
      },
      "source": [
        "# 1. Converting words to lower/upper case\n",
        "\n",
        "data['answer_text_new'] = data['Answer'].str.lower()\n"
      ],
      "execution_count": 21,
      "outputs": []
    },
    {
      "cell_type": "code",
      "metadata": {
        "colab": {
          "base_uri": "https://localhost:8080/"
        },
        "id": "SOCBjAJEBfH_",
        "outputId": "cc1a8f88-80a0-4ddc-c4e6-40ea04700adf"
      },
      "source": [
        "# Word Tokenisation\n",
        "\n",
        "from nltk import word_tokenize\n",
        "import nltk\n",
        "nltk.download('punkt')\n",
        "\n",
        "# For reviews not converted to lowe case\n",
        "token_lists = [word_tokenize(each) for each in data['answer_text_new']]\n",
        "tokens = [item for sublist in token_lists for item in sublist]\n",
        "print(\"Number of unique tokens then: \",len(set(tokens)))\n",
        "\n",
        "# For reviews converted to lowe case\n",
        "token_lists_lower = [word_tokenize(each) for each in data['answer_text_new']]\n",
        "tokens_lower = [item for sublist in token_lists_lower for item in sublist]\n",
        "print(\"Number of unique tokens now: \",len(set(tokens_lower)))"
      ],
      "execution_count": 24,
      "outputs": [
        {
          "output_type": "stream",
          "text": [
            "[nltk_data] Downloading package punkt to /root/nltk_data...\n",
            "[nltk_data]   Unzipping tokenizers/punkt.zip.\n",
            "Number of unique tokens then:  5475\n",
            "Number of unique tokens now:  5475\n"
          ],
          "name": "stdout"
        }
      ]
    },
    {
      "cell_type": "code",
      "metadata": {
        "colab": {
          "base_uri": "https://localhost:8080/"
        },
        "id": "Ww7IdpWkBgd6",
        "outputId": "89bb2047-00a8-4194-ae15-2ee164c0cca2"
      },
      "source": [
        "# 2. Removing special characters\n",
        "\n",
        "### Selecting non alpha numeric charactes that are not spaces\n",
        "spl_chars = data['answer_text_new'].apply(lambda review: \n",
        "                                                     [char for char in list(review) if not char.isalnum() and char != ' '])\n",
        "\n",
        "## Getting list of list into a single list\n",
        "flat_list = [item for sublist in spl_chars for item in sublist]\n",
        "\n",
        "## Unique special characters\n",
        "set(flat_list)"
      ],
      "execution_count": 25,
      "outputs": [
        {
          "output_type": "execute_result",
          "data": {
            "text/plain": [
              "{'\\n',\n",
              " '!',\n",
              " '\"',\n",
              " '#',\n",
              " '$',\n",
              " '%',\n",
              " '&',\n",
              " \"'\",\n",
              " '(',\n",
              " ')',\n",
              " '*',\n",
              " '+',\n",
              " ',',\n",
              " '-',\n",
              " '.',\n",
              " '/',\n",
              " ':',\n",
              " ';',\n",
              " '<',\n",
              " '=',\n",
              " '>',\n",
              " '?',\n",
              " '[',\n",
              " '\\\\',\n",
              " ']',\n",
              " '^',\n",
              " '_',\n",
              " '`',\n",
              " '¯',\n",
              " '’',\n",
              " '“',\n",
              " '”',\n",
              " '•'}"
            ]
          },
          "metadata": {
            "tags": []
          },
          "execution_count": 25
        }
      ]
    },
    {
      "cell_type": "code",
      "metadata": {
        "id": "JUc0i6RCCj9C"
      },
      "source": [
        "# Remove the above special characters\n",
        "\n",
        "review_backup = data['answer_text_new'].copy()\n",
        "data['answer_text_new'] = data['answer_text_new'].str.replace(r'[^A-Za-z0-9 ]+', ' ')"
      ],
      "execution_count": 26,
      "outputs": []
    },
    {
      "cell_type": "code",
      "metadata": {
        "colab": {
          "base_uri": "https://localhost:8080/"
        },
        "id": "NPFlT7QIC1a_",
        "outputId": "7683b2b9-1acd-44e6-b3de-4dd7834b3944"
      },
      "source": [
        "print(\"- Old Review -\")\n",
        "print(review_backup.values[6])\n",
        "print(\"\\n- New Review -\")\n",
        "print(data['answer_text_new'][6])"
      ],
      "execution_count": 28,
      "outputs": [
        {
          "output_type": "stream",
          "text": [
            "- Old Review -\n",
            "dr. <faculty name> has poor response skills. her replies to emails are not genuine, unhelpful, and sometimes outright rude. she has a vast array\n",
            "of knowledge and is a very smart person, but her communication skills need to be greatly improved before i can consider her a teacher i\n",
            "enjoyed. \n",
            "\n",
            "\n",
            "- New Review -\n",
            "dr   faculty name  has poor response skills  her replies to emails are not genuine  unhelpful  and sometimes outright rude  she has a vast array of knowledge and is a very smart person  but her communication skills need to be greatly improved before i can consider her a teacher i enjoyed   \n"
          ],
          "name": "stdout"
        }
      ]
    },
    {
      "cell_type": "code",
      "metadata": {
        "colab": {
          "base_uri": "https://localhost:8080/"
        },
        "id": "Ns45pP9MC36w",
        "outputId": "f3a42a90-106f-4ced-9a99-ce5a55e02fea"
      },
      "source": [
        "token_lists = [word_tokenize(each) for each in data['Answer']]\n",
        "tokens = [item for sublist in token_lists for item in sublist]\n",
        "print(\"Number of unique tokens then: \",len(set(tokens)))\n",
        "\n",
        "token_lists = [word_tokenize(each) for each in data['answer_text_new']]\n",
        "tokens = [item for sublist in token_lists for item in sublist]\n",
        "print(\"Number of unique tokens now: \",len(set(tokens)))"
      ],
      "execution_count": 29,
      "outputs": [
        {
          "output_type": "stream",
          "text": [
            "Number of unique tokens then:  6360\n",
            "Number of unique tokens now:  5142\n"
          ],
          "name": "stdout"
        }
      ]
    },
    {
      "cell_type": "markdown",
      "metadata": {
        "id": "nkuf9l2MF05N"
      },
      "source": [
        "3. Stopwords and high/low frequency words"
      ]
    },
    {
      "cell_type": "code",
      "metadata": {
        "colab": {
          "base_uri": "https://localhost:8080/"
        },
        "id": "6xBn8i-NDS1m",
        "outputId": "c47aef7f-eca9-46eb-8a1d-2c827ced4974"
      },
      "source": [
        "from nltk.corpus import stopwords\n",
        "nltk.download('stopwords')\n",
        "\n",
        "print('Available languages for NLTK v.3.4.5: ')\n",
        "print(stopwords.fileids())"
      ],
      "execution_count": 31,
      "outputs": [
        {
          "output_type": "stream",
          "text": [
            "[nltk_data] Downloading package stopwords to /root/nltk_data...\n",
            "[nltk_data]   Unzipping corpora/stopwords.zip.\n",
            "Available languages for NLTK v.3.4.5: \n",
            "['arabic', 'azerbaijani', 'danish', 'dutch', 'english', 'finnish', 'french', 'german', 'greek', 'hungarian', 'indonesian', 'italian', 'kazakh', 'nepali', 'norwegian', 'portuguese', 'romanian', 'russian', 'slovene', 'spanish', 'swedish', 'tajik', 'turkish']\n"
          ],
          "name": "stdout"
        }
      ]
    },
    {
      "cell_type": "code",
      "metadata": {
        "colab": {
          "base_uri": "https://localhost:8080/"
        },
        "id": "BJfDwzOZDeFx",
        "outputId": "9a9ac764-5fbe-4464-92aa-836232dc9eb0"
      },
      "source": [
        "# Let's now review the list of English stopwords:\n",
        "\n",
        "noise_words = []\n",
        "eng_stop_words = stopwords.words('english')\n",
        "eng_stop_words"
      ],
      "execution_count": 32,
      "outputs": [
        {
          "output_type": "execute_result",
          "data": {
            "text/plain": [
              "['i',\n",
              " 'me',\n",
              " 'my',\n",
              " 'myself',\n",
              " 'we',\n",
              " 'our',\n",
              " 'ours',\n",
              " 'ourselves',\n",
              " 'you',\n",
              " \"you're\",\n",
              " \"you've\",\n",
              " \"you'll\",\n",
              " \"you'd\",\n",
              " 'your',\n",
              " 'yours',\n",
              " 'yourself',\n",
              " 'yourselves',\n",
              " 'he',\n",
              " 'him',\n",
              " 'his',\n",
              " 'himself',\n",
              " 'she',\n",
              " \"she's\",\n",
              " 'her',\n",
              " 'hers',\n",
              " 'herself',\n",
              " 'it',\n",
              " \"it's\",\n",
              " 'its',\n",
              " 'itself',\n",
              " 'they',\n",
              " 'them',\n",
              " 'their',\n",
              " 'theirs',\n",
              " 'themselves',\n",
              " 'what',\n",
              " 'which',\n",
              " 'who',\n",
              " 'whom',\n",
              " 'this',\n",
              " 'that',\n",
              " \"that'll\",\n",
              " 'these',\n",
              " 'those',\n",
              " 'am',\n",
              " 'is',\n",
              " 'are',\n",
              " 'was',\n",
              " 'were',\n",
              " 'be',\n",
              " 'been',\n",
              " 'being',\n",
              " 'have',\n",
              " 'has',\n",
              " 'had',\n",
              " 'having',\n",
              " 'do',\n",
              " 'does',\n",
              " 'did',\n",
              " 'doing',\n",
              " 'a',\n",
              " 'an',\n",
              " 'the',\n",
              " 'and',\n",
              " 'but',\n",
              " 'if',\n",
              " 'or',\n",
              " 'because',\n",
              " 'as',\n",
              " 'until',\n",
              " 'while',\n",
              " 'of',\n",
              " 'at',\n",
              " 'by',\n",
              " 'for',\n",
              " 'with',\n",
              " 'about',\n",
              " 'against',\n",
              " 'between',\n",
              " 'into',\n",
              " 'through',\n",
              " 'during',\n",
              " 'before',\n",
              " 'after',\n",
              " 'above',\n",
              " 'below',\n",
              " 'to',\n",
              " 'from',\n",
              " 'up',\n",
              " 'down',\n",
              " 'in',\n",
              " 'out',\n",
              " 'on',\n",
              " 'off',\n",
              " 'over',\n",
              " 'under',\n",
              " 'again',\n",
              " 'further',\n",
              " 'then',\n",
              " 'once',\n",
              " 'here',\n",
              " 'there',\n",
              " 'when',\n",
              " 'where',\n",
              " 'why',\n",
              " 'how',\n",
              " 'all',\n",
              " 'any',\n",
              " 'both',\n",
              " 'each',\n",
              " 'few',\n",
              " 'more',\n",
              " 'most',\n",
              " 'other',\n",
              " 'some',\n",
              " 'such',\n",
              " 'no',\n",
              " 'nor',\n",
              " 'not',\n",
              " 'only',\n",
              " 'own',\n",
              " 'same',\n",
              " 'so',\n",
              " 'than',\n",
              " 'too',\n",
              " 'very',\n",
              " 's',\n",
              " 't',\n",
              " 'can',\n",
              " 'will',\n",
              " 'just',\n",
              " 'don',\n",
              " \"don't\",\n",
              " 'should',\n",
              " \"should've\",\n",
              " 'now',\n",
              " 'd',\n",
              " 'll',\n",
              " 'm',\n",
              " 'o',\n",
              " 're',\n",
              " 've',\n",
              " 'y',\n",
              " 'ain',\n",
              " 'aren',\n",
              " \"aren't\",\n",
              " 'couldn',\n",
              " \"couldn't\",\n",
              " 'didn',\n",
              " \"didn't\",\n",
              " 'doesn',\n",
              " \"doesn't\",\n",
              " 'hadn',\n",
              " \"hadn't\",\n",
              " 'hasn',\n",
              " \"hasn't\",\n",
              " 'haven',\n",
              " \"haven't\",\n",
              " 'isn',\n",
              " \"isn't\",\n",
              " 'ma',\n",
              " 'mightn',\n",
              " \"mightn't\",\n",
              " 'mustn',\n",
              " \"mustn't\",\n",
              " 'needn',\n",
              " \"needn't\",\n",
              " 'shan',\n",
              " \"shan't\",\n",
              " 'shouldn',\n",
              " \"shouldn't\",\n",
              " 'wasn',\n",
              " \"wasn't\",\n",
              " 'weren',\n",
              " \"weren't\",\n",
              " 'won',\n",
              " \"won't\",\n",
              " 'wouldn',\n",
              " \"wouldn't\"]"
            ]
          },
          "metadata": {
            "tags": []
          },
          "execution_count": 32
        }
      ]
    },
    {
      "cell_type": "code",
      "metadata": {
        "colab": {
          "base_uri": "https://localhost:8080/"
        },
        "id": "sSixb75WDs3_",
        "outputId": "87f7df01-cc64-4609-d70b-f964e2a817f9"
      },
      "source": [
        "stop_words = set(eng_stop_words)\n",
        "without_stop_words = []\n",
        "stopword = []\n",
        "sentence = data['answer_text_new'][0]\n",
        "words = nltk.word_tokenize(sentence)\n",
        "\n",
        "for word in words:\n",
        "    if word in stop_words:\n",
        "        stopword.append(word)\n",
        "    else:\n",
        "        without_stop_words.append(word)\n",
        "\n",
        "print('-- Original Sentence --\\n', sentence)\n",
        "print('\\n-- Stopwords in the sentence --\\n', stopword)\n",
        "print('\\n-- Non-stopwords in the sentence --\\n', without_stop_words)"
      ],
      "execution_count": 33,
      "outputs": [
        {
          "output_type": "stream",
          "text": [
            "-- Original Sentence --\n",
            " having the option to be able to do our work when we have time and being able to have discussion boards with other students in order to see what they think of the subject matter \n",
            "\n",
            "-- Stopwords in the sentence --\n",
            " ['having', 'the', 'to', 'be', 'to', 'do', 'our', 'when', 'we', 'have', 'and', 'being', 'to', 'have', 'with', 'other', 'in', 'to', 'what', 'they', 'of', 'the']\n",
            "\n",
            "-- Non-stopwords in the sentence --\n",
            " ['option', 'able', 'work', 'time', 'able', 'discussion', 'boards', 'students', 'order', 'see', 'think', 'subject', 'matter']\n"
          ],
          "name": "stdout"
        }
      ]
    },
    {
      "cell_type": "code",
      "metadata": {
        "colab": {
          "base_uri": "https://localhost:8080/",
          "height": 419
        },
        "id": "wfDoDN1eD7XI",
        "outputId": "9b9dac6d-8b50-4d3f-f494-3436b7eda2e2"
      },
      "source": [
        "def stopwords_removal(stop_words, sentence):\n",
        "    return [word for word in nltk.word_tokenize(sentence) if word not in stop_words]\n",
        "\n",
        "data['answer_text_nonstop'] = data['answer_text_new'].apply(lambda row: stopwords_removal(stop_words, row))\n",
        "data[['answer_text_new','answer_text_nonstop']]"
      ],
      "execution_count": 34,
      "outputs": [
        {
          "output_type": "execute_result",
          "data": {
            "text/html": [
              "<div>\n",
              "<style scoped>\n",
              "    .dataframe tbody tr th:only-of-type {\n",
              "        vertical-align: middle;\n",
              "    }\n",
              "\n",
              "    .dataframe tbody tr th {\n",
              "        vertical-align: top;\n",
              "    }\n",
              "\n",
              "    .dataframe thead th {\n",
              "        text-align: right;\n",
              "    }\n",
              "</style>\n",
              "<table border=\"1\" class=\"dataframe\">\n",
              "  <thead>\n",
              "    <tr style=\"text-align: right;\">\n",
              "      <th></th>\n",
              "      <th>answer_text_new</th>\n",
              "      <th>answer_text_nonstop</th>\n",
              "    </tr>\n",
              "  </thead>\n",
              "  <tbody>\n",
              "    <tr>\n",
              "      <th>0</th>\n",
              "      <td>having the option to be able to do our work wh...</td>\n",
              "      <td>[option, able, work, time, able, discussion, b...</td>\n",
              "    </tr>\n",
              "    <tr>\n",
              "      <th>1</th>\n",
              "      <td>the instructor s lectures were clear and organ...</td>\n",
              "      <td>[instructor, lectures, clear, organized, times...</td>\n",
              "    </tr>\n",
              "    <tr>\n",
              "      <th>2</th>\n",
              "      <td>the instructor explained the content of the co...</td>\n",
              "      <td>[instructor, explained, content, course, well,...</td>\n",
              "    </tr>\n",
              "    <tr>\n",
              "      <th>3</th>\n",
              "      <td>overall she did really well  i understood all ...</td>\n",
              "      <td>[overall, really, well, understood, material, ...</td>\n",
              "    </tr>\n",
              "    <tr>\n",
              "      <th>4</th>\n",
              "      <td>good</td>\n",
              "      <td>[good]</td>\n",
              "    </tr>\n",
              "    <tr>\n",
              "      <th>...</th>\n",
              "      <td>...</td>\n",
              "      <td>...</td>\n",
              "    </tr>\n",
              "    <tr>\n",
              "      <th>4846</th>\n",
              "      <td>please be more clear on what you re expecting ...</td>\n",
              "      <td>[please, clear, expecting, case, analysis, pre...</td>\n",
              "    </tr>\n",
              "    <tr>\n",
              "      <th>4847</th>\n",
              "      <td>i enjoyed the class and the teachers passion t...</td>\n",
              "      <td>[enjoyed, class, teachers, passion, teaching]</td>\n",
              "    </tr>\n",
              "    <tr>\n",
              "      <th>4848</th>\n",
              "      <td>the professor can try and explain the lectures...</td>\n",
              "      <td>[professor, try, explain, lectures, talking, r...</td>\n",
              "    </tr>\n",
              "    <tr>\n",
              "      <th>4849</th>\n",
              "      <td>went above and beyond in providing clear lectu...</td>\n",
              "      <td>[went, beyond, providing, clear, lecture, read...</td>\n",
              "    </tr>\n",
              "    <tr>\n",
              "      <th>4850</th>\n",
              "      <td>the class needed a little bit more diverse ass...</td>\n",
              "      <td>[class, needed, little, bit, diverse, assignme...</td>\n",
              "    </tr>\n",
              "  </tbody>\n",
              "</table>\n",
              "<p>4851 rows × 2 columns</p>\n",
              "</div>"
            ],
            "text/plain": [
              "                                        answer_text_new                                answer_text_nonstop\n",
              "0     having the option to be able to do our work wh...  [option, able, work, time, able, discussion, b...\n",
              "1     the instructor s lectures were clear and organ...  [instructor, lectures, clear, organized, times...\n",
              "2     the instructor explained the content of the co...  [instructor, explained, content, course, well,...\n",
              "3     overall she did really well  i understood all ...  [overall, really, well, understood, material, ...\n",
              "4                                                 good                                              [good]\n",
              "...                                                 ...                                                ...\n",
              "4846  please be more clear on what you re expecting ...  [please, clear, expecting, case, analysis, pre...\n",
              "4847  i enjoyed the class and the teachers passion t...      [enjoyed, class, teachers, passion, teaching]\n",
              "4848  the professor can try and explain the lectures...  [professor, try, explain, lectures, talking, r...\n",
              "4849  went above and beyond in providing clear lectu...  [went, beyond, providing, clear, lecture, read...\n",
              "4850  the class needed a little bit more diverse ass...  [class, needed, little, bit, diverse, assignme...\n",
              "\n",
              "[4851 rows x 2 columns]"
            ]
          },
          "metadata": {
            "tags": []
          },
          "execution_count": 34
        }
      ]
    },
    {
      "cell_type": "markdown",
      "metadata": {
        "id": "O1_rlkB3F8xp"
      },
      "source": [
        "4. Stemming & lemmatization"
      ]
    },
    {
      "cell_type": "code",
      "metadata": {
        "colab": {
          "base_uri": "https://localhost:8080/"
        },
        "id": "gIk3gM_eEYOA",
        "outputId": "b9642388-b863-4f00-8829-117e1e9b0bee"
      },
      "source": [
        "from nltk.stem import PorterStemmer, LancasterStemmer # Common stemmers\n",
        "from nltk.stem import WordNetLemmatizer # Common Lematizer\n",
        "nltk.download('wordnet')\n",
        "from nltk.corpus import wordnet\n",
        "\n",
        "porter = PorterStemmer()\n",
        "lancaster = LancasterStemmer()\n",
        "lemmatizer = WordNetLemmatizer()"
      ],
      "execution_count": 35,
      "outputs": [
        {
          "output_type": "stream",
          "text": [
            "[nltk_data] Downloading package wordnet to /root/nltk_data...\n",
            "[nltk_data]   Unzipping corpora/wordnet.zip.\n"
          ],
          "name": "stdout"
        }
      ]
    },
    {
      "cell_type": "code",
      "metadata": {
        "colab": {
          "base_uri": "https://localhost:8080/"
        },
        "id": "MOx2OpRvGDIA",
        "outputId": "3fbdc8ef-945a-4543-afa1-7486b163ba83"
      },
      "source": [
        "print(\"Lancaster Stemmer\")\n",
        "print(lancaster.stem(\"trouble\"))\n",
        "print(lancaster.stem(\"troubling\"))\n",
        "print(lancaster.stem(\"troubled\"))\n",
        "\n",
        "# Provide a word to be lemmatized\n",
        "print(\"WordNet Lemmatizer\")\n",
        "print(lemmatizer.lemmatize(\"trouble\", wordnet.NOUN))\n",
        "print(lemmatizer.lemmatize(\"troubling\", wordnet.VERB))\n",
        "print(lemmatizer.lemmatize(\"troubled\", wordnet.VERB))"
      ],
      "execution_count": 36,
      "outputs": [
        {
          "output_type": "stream",
          "text": [
            "Lancaster Stemmer\n",
            "troubl\n",
            "troubl\n",
            "troubl\n",
            "WordNet Lemmatizer\n",
            "trouble\n",
            "trouble\n",
            "trouble\n"
          ],
          "name": "stdout"
        }
      ]
    },
    {
      "cell_type": "code",
      "metadata": {
        "colab": {
          "base_uri": "https://localhost:8080/",
          "height": 289
        },
        "id": "3Mt8xJnGGJIU",
        "outputId": "8984c48b-51f5-429a-b094-e29830265def"
      },
      "source": [
        "data.head()"
      ],
      "execution_count": 37,
      "outputs": [
        {
          "output_type": "execute_result",
          "data": {
            "text/html": [
              "<div>\n",
              "<style scoped>\n",
              "    .dataframe tbody tr th:only-of-type {\n",
              "        vertical-align: middle;\n",
              "    }\n",
              "\n",
              "    .dataframe tbody tr th {\n",
              "        vertical-align: top;\n",
              "    }\n",
              "\n",
              "    .dataframe thead th {\n",
              "        text-align: right;\n",
              "    }\n",
              "</style>\n",
              "<table border=\"1\" class=\"dataframe\">\n",
              "  <thead>\n",
              "    <tr style=\"text-align: right;\">\n",
              "      <th></th>\n",
              "      <th>Unnamed: 0</th>\n",
              "      <th>Question</th>\n",
              "      <th>Answer</th>\n",
              "      <th>Sentiment (Positive / Negative / Neutral / Ambiguous)</th>\n",
              "      <th>answer_text_new</th>\n",
              "      <th>answer_text_nonstop</th>\n",
              "    </tr>\n",
              "  </thead>\n",
              "  <tbody>\n",
              "    <tr>\n",
              "      <th>0</th>\n",
              "      <td>461129</td>\n",
              "      <td>5) What do you think were the strongest featur...</td>\n",
              "      <td>Having the option to be able to do our work wh...</td>\n",
              "      <td>Positive</td>\n",
              "      <td>having the option to be able to do our work wh...</td>\n",
              "      <td>[option, able, work, time, able, discussion, b...</td>\n",
              "    </tr>\n",
              "    <tr>\n",
              "      <th>1</th>\n",
              "      <td>62575</td>\n",
              "      <td>Please provide an example and/or explanation t...</td>\n",
              "      <td>The instructor's lectures were clear and organ...</td>\n",
              "      <td>Negative</td>\n",
              "      <td>the instructor s lectures were clear and organ...</td>\n",
              "      <td>[instructor, lectures, clear, organized, times...</td>\n",
              "    </tr>\n",
              "    <tr>\n",
              "      <th>2</th>\n",
              "      <td>550133</td>\n",
              "      <td>What did the instructor do well?\\n</td>\n",
              "      <td>The instructor explained the content of the co...</td>\n",
              "      <td>Neutral</td>\n",
              "      <td>the instructor explained the content of the co...</td>\n",
              "      <td>[instructor, explained, content, course, well,...</td>\n",
              "    </tr>\n",
              "    <tr>\n",
              "      <th>3</th>\n",
              "      <td>185121</td>\n",
              "      <td>Your instructor would like to know whether the...</td>\n",
              "      <td>Overall she did really well. I understood all ...</td>\n",
              "      <td>Ambiguous</td>\n",
              "      <td>overall she did really well  i understood all ...</td>\n",
              "      <td>[overall, really, well, understood, material, ...</td>\n",
              "    </tr>\n",
              "    <tr>\n",
              "      <th>4</th>\n",
              "      <td>384420</td>\n",
              "      <td>Comments:\\n</td>\n",
              "      <td>good\\n</td>\n",
              "      <td>Positive</td>\n",
              "      <td>good</td>\n",
              "      <td>[good]</td>\n",
              "    </tr>\n",
              "  </tbody>\n",
              "</table>\n",
              "</div>"
            ],
            "text/plain": [
              "   Unnamed: 0  ...                                answer_text_nonstop\n",
              "0      461129  ...  [option, able, work, time, able, discussion, b...\n",
              "1       62575  ...  [instructor, lectures, clear, organized, times...\n",
              "2      550133  ...  [instructor, explained, content, course, well,...\n",
              "3      185121  ...  [overall, really, well, understood, material, ...\n",
              "4      384420  ...                                             [good]\n",
              "\n",
              "[5 rows x 6 columns]"
            ]
          },
          "metadata": {
            "tags": []
          },
          "execution_count": 37
        }
      ]
    },
    {
      "cell_type": "code",
      "metadata": {
        "colab": {
          "base_uri": "https://localhost:8080/"
        },
        "id": "diucwL8QHniZ",
        "outputId": "5cdd6a06-fe9f-4dba-98fa-f627e46ed10d"
      },
      "source": [
        "data.columns"
      ],
      "execution_count": 41,
      "outputs": [
        {
          "output_type": "execute_result",
          "data": {
            "text/plain": [
              "Index(['Unnamed: 0', 'Question', 'Answer',\n",
              "       'Sentiment (Positive / Negative / Neutral / Ambiguous)',\n",
              "       'answer_text_new', 'answer_text_nonstop'],\n",
              "      dtype='object')"
            ]
          },
          "metadata": {
            "tags": []
          },
          "execution_count": 41
        }
      ]
    },
    {
      "cell_type": "code",
      "metadata": {
        "colab": {
          "base_uri": "https://localhost:8080/",
          "height": 289
        },
        "id": "f4XxHHruGe3w",
        "outputId": "2063d021-bda0-4f8b-f0ef-4bab72900e8d"
      },
      "source": [
        "# rating = {'Positive': 1,'Negative': 0,'Neutral': 0.5,'Ambiguous': '-'}\n",
        "\n",
        "rating = {'Positive': 1,'Negative': 0,'Neutral': 0.5,'Ambiguous': 2}\n",
        "  \n",
        "data['rating'] = data['Sentiment (Positive / Negative / Neutral / Ambiguous)'].map(rating)\n",
        "data.head()"
      ],
      "execution_count": 106,
      "outputs": [
        {
          "output_type": "execute_result",
          "data": {
            "text/html": [
              "<div>\n",
              "<style scoped>\n",
              "    .dataframe tbody tr th:only-of-type {\n",
              "        vertical-align: middle;\n",
              "    }\n",
              "\n",
              "    .dataframe tbody tr th {\n",
              "        vertical-align: top;\n",
              "    }\n",
              "\n",
              "    .dataframe thead th {\n",
              "        text-align: right;\n",
              "    }\n",
              "</style>\n",
              "<table border=\"1\" class=\"dataframe\">\n",
              "  <thead>\n",
              "    <tr style=\"text-align: right;\">\n",
              "      <th></th>\n",
              "      <th>Unnamed: 0</th>\n",
              "      <th>Question</th>\n",
              "      <th>Answer</th>\n",
              "      <th>Sentiment (Positive / Negative / Neutral / Ambiguous)</th>\n",
              "      <th>answer_text_new</th>\n",
              "      <th>answer_text_nonstop</th>\n",
              "      <th>rating</th>\n",
              "    </tr>\n",
              "  </thead>\n",
              "  <tbody>\n",
              "    <tr>\n",
              "      <th>0</th>\n",
              "      <td>461129</td>\n",
              "      <td>5) What do you think were the strongest featur...</td>\n",
              "      <td>Having the option to be able to do our work wh...</td>\n",
              "      <td>Positive</td>\n",
              "      <td>having the option to be able to do our work wh...</td>\n",
              "      <td>[option, able, work, time, able, discussion, b...</td>\n",
              "      <td>1.0</td>\n",
              "    </tr>\n",
              "    <tr>\n",
              "      <th>1</th>\n",
              "      <td>62575</td>\n",
              "      <td>Please provide an example and/or explanation t...</td>\n",
              "      <td>The instructor's lectures were clear and organ...</td>\n",
              "      <td>Negative</td>\n",
              "      <td>the instructor s lectures were clear and organ...</td>\n",
              "      <td>[instructor, lectures, clear, organized, times...</td>\n",
              "      <td>0.0</td>\n",
              "    </tr>\n",
              "    <tr>\n",
              "      <th>4</th>\n",
              "      <td>384420</td>\n",
              "      <td>Comments:\\n</td>\n",
              "      <td>good\\n</td>\n",
              "      <td>Positive</td>\n",
              "      <td>good</td>\n",
              "      <td>[good]</td>\n",
              "      <td>1.0</td>\n",
              "    </tr>\n",
              "    <tr>\n",
              "      <th>5</th>\n",
              "      <td>223095</td>\n",
              "      <td>Please provide an example illustrating how rig...</td>\n",
              "      <td>too demanding of reading material regardless o...</td>\n",
              "      <td>Negative</td>\n",
              "      <td>too demanding of reading material regardless o...</td>\n",
              "      <td>[demanding, reading, material, regardless, cov...</td>\n",
              "      <td>0.0</td>\n",
              "    </tr>\n",
              "    <tr>\n",
              "      <th>8</th>\n",
              "      <td>581994</td>\n",
              "      <td>Your instructor would like to know if there is...</td>\n",
              "      <td>Professor was knowledgeable of the topics and ...</td>\n",
              "      <td>Positive</td>\n",
              "      <td>professor was knowledgeable of the topics and ...</td>\n",
              "      <td>[professor, knowledgeable, topics, shared, exp...</td>\n",
              "      <td>1.0</td>\n",
              "    </tr>\n",
              "  </tbody>\n",
              "</table>\n",
              "</div>"
            ],
            "text/plain": [
              "   Unnamed: 0  ... rating\n",
              "0      461129  ...    1.0\n",
              "1       62575  ...    0.0\n",
              "4      384420  ...    1.0\n",
              "5      223095  ...    0.0\n",
              "8      581994  ...    1.0\n",
              "\n",
              "[5 rows x 7 columns]"
            ]
          },
          "metadata": {
            "tags": []
          },
          "execution_count": 106
        }
      ]
    },
    {
      "cell_type": "code",
      "metadata": {
        "id": "mAPjqf9o8s04"
      },
      "source": [
        ""
      ],
      "execution_count": null,
      "outputs": []
    },
    {
      "cell_type": "code",
      "metadata": {
        "colab": {
          "base_uri": "https://localhost:8080/"
        },
        "id": "HhsNH1XQRKp9",
        "outputId": "bd45ba72-34a4-4b96-a0e2-b9d95b23dc1b"
      },
      "source": [
        "data.shape"
      ],
      "execution_count": 82,
      "outputs": [
        {
          "output_type": "execute_result",
          "data": {
            "text/plain": [
              "(4851, 7)"
            ]
          },
          "metadata": {
            "tags": []
          },
          "execution_count": 82
        }
      ]
    },
    {
      "cell_type": "code",
      "metadata": {
        "id": "-1_bScGgRvKf"
      },
      "source": [
        "data_back = data"
      ],
      "execution_count": 107,
      "outputs": []
    },
    {
      "cell_type": "code",
      "metadata": {
        "colab": {
          "base_uri": "https://localhost:8080/"
        },
        "id": "glhFV3LzRak8",
        "outputId": "149b1089-c250-4d3b-fb7f-d86eb0ab6329"
      },
      "source": [
        "data = data[data['rating'] != 0.5]\n",
        "data.shape"
      ],
      "execution_count": 108,
      "outputs": [
        {
          "output_type": "execute_result",
          "data": {
            "text/plain": [
              "(3956, 7)"
            ]
          },
          "metadata": {
            "tags": []
          },
          "execution_count": 108
        }
      ]
    },
    {
      "cell_type": "code",
      "metadata": {
        "colab": {
          "base_uri": "https://localhost:8080/"
        },
        "id": "5VICbmpmRkTQ",
        "outputId": "860f3ece-3340-4cec-8ae1-7e4ac0c90e7d"
      },
      "source": [
        "data = data[data['rating'] != 2]\n",
        "data.shape"
      ],
      "execution_count": 109,
      "outputs": [
        {
          "output_type": "execute_result",
          "data": {
            "text/plain": [
              "(3956, 7)"
            ]
          },
          "metadata": {
            "tags": []
          },
          "execution_count": 109
        }
      ]
    },
    {
      "cell_type": "code",
      "metadata": {
        "id": "ws-0eYt480md"
      },
      "source": [
        "data = data.dropna()\n"
      ],
      "execution_count": 111,
      "outputs": []
    },
    {
      "cell_type": "code",
      "metadata": {
        "colab": {
          "base_uri": "https://localhost:8080/"
        },
        "id": "_qo2BfYQ86Nx",
        "outputId": "64253165-86df-4547-872d-4bf91e9eae90"
      },
      "source": [
        "data1.isnull().any()\n"
      ],
      "execution_count": 112,
      "outputs": [
        {
          "output_type": "execute_result",
          "data": {
            "text/plain": [
              "Unnamed: 0                                               False\n",
              "Question                                                 False\n",
              "Answer                                                   False\n",
              "Sentiment (Positive / Negative / Neutral / Ambiguous)    False\n",
              "answer_text_new                                          False\n",
              "answer_text_nonstop                                      False\n",
              "rating                                                   False\n",
              "dtype: bool"
            ]
          },
          "metadata": {
            "tags": []
          },
          "execution_count": 112
        }
      ]
    },
    {
      "cell_type": "markdown",
      "metadata": {
        "id": "sYANWfvJIVjx"
      },
      "source": [
        "Building a machine learning model"
      ]
    },
    {
      "cell_type": "code",
      "metadata": {
        "id": "V9dxNkwgHfrK"
      },
      "source": [
        "data[['answer_text_nonstop','rating']].head(20)\n",
        "data_back = data"
      ],
      "execution_count": 129,
      "outputs": []
    },
    {
      "cell_type": "code",
      "metadata": {
        "id": "gR3hHgW0-jSy"
      },
      "source": [
        "data = data_back[['answer_text_new','rating']]\n"
      ],
      "execution_count": 133,
      "outputs": []
    },
    {
      "cell_type": "code",
      "metadata": {
        "colab": {
          "base_uri": "https://localhost:8080/",
          "height": 204
        },
        "id": "Plv6JxMU-mZQ",
        "outputId": "c24cfdfd-8b89-4b74-d60d-33fcb09297f7"
      },
      "source": [
        "data.head()"
      ],
      "execution_count": 135,
      "outputs": [
        {
          "output_type": "execute_result",
          "data": {
            "text/html": [
              "<div>\n",
              "<style scoped>\n",
              "    .dataframe tbody tr th:only-of-type {\n",
              "        vertical-align: middle;\n",
              "    }\n",
              "\n",
              "    .dataframe tbody tr th {\n",
              "        vertical-align: top;\n",
              "    }\n",
              "\n",
              "    .dataframe thead th {\n",
              "        text-align: right;\n",
              "    }\n",
              "</style>\n",
              "<table border=\"1\" class=\"dataframe\">\n",
              "  <thead>\n",
              "    <tr style=\"text-align: right;\">\n",
              "      <th></th>\n",
              "      <th>answer_text_new</th>\n",
              "      <th>rating</th>\n",
              "    </tr>\n",
              "  </thead>\n",
              "  <tbody>\n",
              "    <tr>\n",
              "      <th>0</th>\n",
              "      <td>having the option to be able to do our work wh...</td>\n",
              "      <td>1.0</td>\n",
              "    </tr>\n",
              "    <tr>\n",
              "      <th>1</th>\n",
              "      <td>the instructor s lectures were clear and organ...</td>\n",
              "      <td>0.0</td>\n",
              "    </tr>\n",
              "    <tr>\n",
              "      <th>4</th>\n",
              "      <td>good</td>\n",
              "      <td>1.0</td>\n",
              "    </tr>\n",
              "    <tr>\n",
              "      <th>5</th>\n",
              "      <td>too demanding of reading material regardless o...</td>\n",
              "      <td>0.0</td>\n",
              "    </tr>\n",
              "    <tr>\n",
              "      <th>8</th>\n",
              "      <td>professor was knowledgeable of the topics and ...</td>\n",
              "      <td>1.0</td>\n",
              "    </tr>\n",
              "  </tbody>\n",
              "</table>\n",
              "</div>"
            ],
            "text/plain": [
              "                                     answer_text_new  rating\n",
              "0  having the option to be able to do our work wh...     1.0\n",
              "1  the instructor s lectures were clear and organ...     0.0\n",
              "4                                              good      1.0\n",
              "5  too demanding of reading material regardless o...     0.0\n",
              "8  professor was knowledgeable of the topics and ...     1.0"
            ]
          },
          "metadata": {
            "tags": []
          },
          "execution_count": 135
        }
      ]
    },
    {
      "cell_type": "code",
      "metadata": {
        "colab": {
          "base_uri": "https://localhost:8080/",
          "height": 253
        },
        "id": "6Q5sRjPFIq94",
        "outputId": "1d900ec4-c49c-4957-85b0-ac2151f2609b"
      },
      "source": [
        "# Bag of words\n",
        "\n",
        "from nltk import ngrams\n",
        "\n",
        "# The following code creates a word-document matrix.\n",
        "from sklearn.feature_extraction.text import CountVectorizer\n",
        "\n",
        "vec = CountVectorizer()\n",
        "X = vec.fit_transform(data['answer_text_new'])\n",
        "df = pd.DataFrame(X.toarray(), columns = vec.get_feature_names())\n",
        "df.head()"
      ],
      "execution_count": 136,
      "outputs": [
        {
          "output_type": "execute_result",
          "data": {
            "text/html": [
              "<div>\n",
              "<style scoped>\n",
              "    .dataframe tbody tr th:only-of-type {\n",
              "        vertical-align: middle;\n",
              "    }\n",
              "\n",
              "    .dataframe tbody tr th {\n",
              "        vertical-align: top;\n",
              "    }\n",
              "\n",
              "    .dataframe thead th {\n",
              "        text-align: right;\n",
              "    }\n",
              "</style>\n",
              "<table border=\"1\" class=\"dataframe\">\n",
              "  <thead>\n",
              "    <tr style=\"text-align: right;\">\n",
              "      <th></th>\n",
              "      <th>000</th>\n",
              "      <th>01am</th>\n",
              "      <th>10</th>\n",
              "      <th>100</th>\n",
              "      <th>101</th>\n",
              "      <th>11</th>\n",
              "      <th>110</th>\n",
              "      <th>110a</th>\n",
              "      <th>120a</th>\n",
              "      <th>15</th>\n",
              "      <th>16th</th>\n",
              "      <th>16wk</th>\n",
              "      <th>17th</th>\n",
              "      <th>19</th>\n",
              "      <th>19th</th>\n",
              "      <th>1st</th>\n",
              "      <th>20</th>\n",
              "      <th>200</th>\n",
              "      <th>202</th>\n",
              "      <th>2021</th>\n",
              "      <th>210</th>\n",
              "      <th>2100</th>\n",
              "      <th>212</th>\n",
              "      <th>21st</th>\n",
              "      <th>24</th>\n",
              "      <th>25</th>\n",
              "      <th>29</th>\n",
              "      <th>2nd</th>\n",
              "      <th>30</th>\n",
              "      <th>300</th>\n",
              "      <th>301a</th>\n",
              "      <th>304l</th>\n",
              "      <th>320</th>\n",
              "      <th>339</th>\n",
              "      <th>349</th>\n",
              "      <th>35</th>\n",
              "      <th>351</th>\n",
              "      <th>40</th>\n",
              "      <th>400</th>\n",
              "      <th>401</th>\n",
              "      <th>...</th>\n",
              "      <th>worry</th>\n",
              "      <th>worrying</th>\n",
              "      <th>worse</th>\n",
              "      <th>worst</th>\n",
              "      <th>worth</th>\n",
              "      <th>worthless</th>\n",
              "      <th>worthwhile</th>\n",
              "      <th>would</th>\n",
              "      <th>wouldn</th>\n",
              "      <th>wrap</th>\n",
              "      <th>wrapping</th>\n",
              "      <th>write</th>\n",
              "      <th>writer</th>\n",
              "      <th>writers</th>\n",
              "      <th>writes</th>\n",
              "      <th>writing</th>\n",
              "      <th>writings</th>\n",
              "      <th>written</th>\n",
              "      <th>wrong</th>\n",
              "      <th>wrote</th>\n",
              "      <th>ye</th>\n",
              "      <th>yeah</th>\n",
              "      <th>year</th>\n",
              "      <th>years</th>\n",
              "      <th>yes</th>\n",
              "      <th>yet</th>\n",
              "      <th>yimby</th>\n",
              "      <th>yoga</th>\n",
              "      <th>you</th>\n",
              "      <th>youll</th>\n",
              "      <th>young</th>\n",
              "      <th>your</th>\n",
              "      <th>yourself</th>\n",
              "      <th>youtube</th>\n",
              "      <th>yup</th>\n",
              "      <th>zero</th>\n",
              "      <th>zone</th>\n",
              "      <th>zoned</th>\n",
              "      <th>zoning</th>\n",
              "      <th>zoom</th>\n",
              "    </tr>\n",
              "  </thead>\n",
              "  <tbody>\n",
              "    <tr>\n",
              "      <th>0</th>\n",
              "      <td>0</td>\n",
              "      <td>0</td>\n",
              "      <td>0</td>\n",
              "      <td>0</td>\n",
              "      <td>0</td>\n",
              "      <td>0</td>\n",
              "      <td>0</td>\n",
              "      <td>0</td>\n",
              "      <td>0</td>\n",
              "      <td>0</td>\n",
              "      <td>0</td>\n",
              "      <td>0</td>\n",
              "      <td>0</td>\n",
              "      <td>0</td>\n",
              "      <td>0</td>\n",
              "      <td>0</td>\n",
              "      <td>0</td>\n",
              "      <td>0</td>\n",
              "      <td>0</td>\n",
              "      <td>0</td>\n",
              "      <td>0</td>\n",
              "      <td>0</td>\n",
              "      <td>0</td>\n",
              "      <td>0</td>\n",
              "      <td>0</td>\n",
              "      <td>0</td>\n",
              "      <td>0</td>\n",
              "      <td>0</td>\n",
              "      <td>0</td>\n",
              "      <td>0</td>\n",
              "      <td>0</td>\n",
              "      <td>0</td>\n",
              "      <td>0</td>\n",
              "      <td>0</td>\n",
              "      <td>0</td>\n",
              "      <td>0</td>\n",
              "      <td>0</td>\n",
              "      <td>0</td>\n",
              "      <td>0</td>\n",
              "      <td>0</td>\n",
              "      <td>...</td>\n",
              "      <td>0</td>\n",
              "      <td>0</td>\n",
              "      <td>0</td>\n",
              "      <td>0</td>\n",
              "      <td>0</td>\n",
              "      <td>0</td>\n",
              "      <td>0</td>\n",
              "      <td>0</td>\n",
              "      <td>0</td>\n",
              "      <td>0</td>\n",
              "      <td>0</td>\n",
              "      <td>0</td>\n",
              "      <td>0</td>\n",
              "      <td>0</td>\n",
              "      <td>0</td>\n",
              "      <td>0</td>\n",
              "      <td>0</td>\n",
              "      <td>0</td>\n",
              "      <td>0</td>\n",
              "      <td>0</td>\n",
              "      <td>0</td>\n",
              "      <td>0</td>\n",
              "      <td>0</td>\n",
              "      <td>0</td>\n",
              "      <td>0</td>\n",
              "      <td>0</td>\n",
              "      <td>0</td>\n",
              "      <td>0</td>\n",
              "      <td>0</td>\n",
              "      <td>0</td>\n",
              "      <td>0</td>\n",
              "      <td>0</td>\n",
              "      <td>0</td>\n",
              "      <td>0</td>\n",
              "      <td>0</td>\n",
              "      <td>0</td>\n",
              "      <td>0</td>\n",
              "      <td>0</td>\n",
              "      <td>0</td>\n",
              "      <td>0</td>\n",
              "    </tr>\n",
              "    <tr>\n",
              "      <th>1</th>\n",
              "      <td>0</td>\n",
              "      <td>0</td>\n",
              "      <td>0</td>\n",
              "      <td>0</td>\n",
              "      <td>0</td>\n",
              "      <td>0</td>\n",
              "      <td>0</td>\n",
              "      <td>0</td>\n",
              "      <td>0</td>\n",
              "      <td>0</td>\n",
              "      <td>0</td>\n",
              "      <td>0</td>\n",
              "      <td>0</td>\n",
              "      <td>0</td>\n",
              "      <td>0</td>\n",
              "      <td>0</td>\n",
              "      <td>0</td>\n",
              "      <td>0</td>\n",
              "      <td>0</td>\n",
              "      <td>0</td>\n",
              "      <td>0</td>\n",
              "      <td>0</td>\n",
              "      <td>0</td>\n",
              "      <td>0</td>\n",
              "      <td>0</td>\n",
              "      <td>0</td>\n",
              "      <td>0</td>\n",
              "      <td>0</td>\n",
              "      <td>0</td>\n",
              "      <td>0</td>\n",
              "      <td>0</td>\n",
              "      <td>0</td>\n",
              "      <td>0</td>\n",
              "      <td>0</td>\n",
              "      <td>0</td>\n",
              "      <td>0</td>\n",
              "      <td>0</td>\n",
              "      <td>0</td>\n",
              "      <td>0</td>\n",
              "      <td>0</td>\n",
              "      <td>...</td>\n",
              "      <td>0</td>\n",
              "      <td>0</td>\n",
              "      <td>0</td>\n",
              "      <td>0</td>\n",
              "      <td>0</td>\n",
              "      <td>0</td>\n",
              "      <td>0</td>\n",
              "      <td>1</td>\n",
              "      <td>0</td>\n",
              "      <td>0</td>\n",
              "      <td>0</td>\n",
              "      <td>0</td>\n",
              "      <td>0</td>\n",
              "      <td>0</td>\n",
              "      <td>0</td>\n",
              "      <td>0</td>\n",
              "      <td>0</td>\n",
              "      <td>0</td>\n",
              "      <td>0</td>\n",
              "      <td>0</td>\n",
              "      <td>0</td>\n",
              "      <td>0</td>\n",
              "      <td>0</td>\n",
              "      <td>0</td>\n",
              "      <td>0</td>\n",
              "      <td>0</td>\n",
              "      <td>0</td>\n",
              "      <td>0</td>\n",
              "      <td>0</td>\n",
              "      <td>0</td>\n",
              "      <td>0</td>\n",
              "      <td>0</td>\n",
              "      <td>0</td>\n",
              "      <td>0</td>\n",
              "      <td>0</td>\n",
              "      <td>0</td>\n",
              "      <td>0</td>\n",
              "      <td>0</td>\n",
              "      <td>0</td>\n",
              "      <td>0</td>\n",
              "    </tr>\n",
              "    <tr>\n",
              "      <th>2</th>\n",
              "      <td>0</td>\n",
              "      <td>0</td>\n",
              "      <td>0</td>\n",
              "      <td>0</td>\n",
              "      <td>0</td>\n",
              "      <td>0</td>\n",
              "      <td>0</td>\n",
              "      <td>0</td>\n",
              "      <td>0</td>\n",
              "      <td>0</td>\n",
              "      <td>0</td>\n",
              "      <td>0</td>\n",
              "      <td>0</td>\n",
              "      <td>0</td>\n",
              "      <td>0</td>\n",
              "      <td>0</td>\n",
              "      <td>0</td>\n",
              "      <td>0</td>\n",
              "      <td>0</td>\n",
              "      <td>0</td>\n",
              "      <td>0</td>\n",
              "      <td>0</td>\n",
              "      <td>0</td>\n",
              "      <td>0</td>\n",
              "      <td>0</td>\n",
              "      <td>0</td>\n",
              "      <td>0</td>\n",
              "      <td>0</td>\n",
              "      <td>0</td>\n",
              "      <td>0</td>\n",
              "      <td>0</td>\n",
              "      <td>0</td>\n",
              "      <td>0</td>\n",
              "      <td>0</td>\n",
              "      <td>0</td>\n",
              "      <td>0</td>\n",
              "      <td>0</td>\n",
              "      <td>0</td>\n",
              "      <td>0</td>\n",
              "      <td>0</td>\n",
              "      <td>...</td>\n",
              "      <td>0</td>\n",
              "      <td>0</td>\n",
              "      <td>0</td>\n",
              "      <td>0</td>\n",
              "      <td>0</td>\n",
              "      <td>0</td>\n",
              "      <td>0</td>\n",
              "      <td>0</td>\n",
              "      <td>0</td>\n",
              "      <td>0</td>\n",
              "      <td>0</td>\n",
              "      <td>0</td>\n",
              "      <td>0</td>\n",
              "      <td>0</td>\n",
              "      <td>0</td>\n",
              "      <td>0</td>\n",
              "      <td>0</td>\n",
              "      <td>0</td>\n",
              "      <td>0</td>\n",
              "      <td>0</td>\n",
              "      <td>0</td>\n",
              "      <td>0</td>\n",
              "      <td>0</td>\n",
              "      <td>0</td>\n",
              "      <td>0</td>\n",
              "      <td>0</td>\n",
              "      <td>0</td>\n",
              "      <td>0</td>\n",
              "      <td>0</td>\n",
              "      <td>0</td>\n",
              "      <td>0</td>\n",
              "      <td>0</td>\n",
              "      <td>0</td>\n",
              "      <td>0</td>\n",
              "      <td>0</td>\n",
              "      <td>0</td>\n",
              "      <td>0</td>\n",
              "      <td>0</td>\n",
              "      <td>0</td>\n",
              "      <td>0</td>\n",
              "    </tr>\n",
              "    <tr>\n",
              "      <th>3</th>\n",
              "      <td>0</td>\n",
              "      <td>0</td>\n",
              "      <td>0</td>\n",
              "      <td>0</td>\n",
              "      <td>0</td>\n",
              "      <td>0</td>\n",
              "      <td>0</td>\n",
              "      <td>0</td>\n",
              "      <td>0</td>\n",
              "      <td>0</td>\n",
              "      <td>0</td>\n",
              "      <td>0</td>\n",
              "      <td>0</td>\n",
              "      <td>1</td>\n",
              "      <td>0</td>\n",
              "      <td>0</td>\n",
              "      <td>0</td>\n",
              "      <td>0</td>\n",
              "      <td>0</td>\n",
              "      <td>0</td>\n",
              "      <td>0</td>\n",
              "      <td>0</td>\n",
              "      <td>0</td>\n",
              "      <td>0</td>\n",
              "      <td>0</td>\n",
              "      <td>0</td>\n",
              "      <td>0</td>\n",
              "      <td>0</td>\n",
              "      <td>0</td>\n",
              "      <td>0</td>\n",
              "      <td>0</td>\n",
              "      <td>0</td>\n",
              "      <td>0</td>\n",
              "      <td>0</td>\n",
              "      <td>0</td>\n",
              "      <td>0</td>\n",
              "      <td>0</td>\n",
              "      <td>0</td>\n",
              "      <td>0</td>\n",
              "      <td>0</td>\n",
              "      <td>...</td>\n",
              "      <td>0</td>\n",
              "      <td>0</td>\n",
              "      <td>0</td>\n",
              "      <td>0</td>\n",
              "      <td>0</td>\n",
              "      <td>0</td>\n",
              "      <td>0</td>\n",
              "      <td>0</td>\n",
              "      <td>0</td>\n",
              "      <td>0</td>\n",
              "      <td>0</td>\n",
              "      <td>0</td>\n",
              "      <td>0</td>\n",
              "      <td>0</td>\n",
              "      <td>0</td>\n",
              "      <td>0</td>\n",
              "      <td>0</td>\n",
              "      <td>0</td>\n",
              "      <td>0</td>\n",
              "      <td>0</td>\n",
              "      <td>0</td>\n",
              "      <td>0</td>\n",
              "      <td>0</td>\n",
              "      <td>0</td>\n",
              "      <td>0</td>\n",
              "      <td>0</td>\n",
              "      <td>0</td>\n",
              "      <td>0</td>\n",
              "      <td>0</td>\n",
              "      <td>0</td>\n",
              "      <td>0</td>\n",
              "      <td>0</td>\n",
              "      <td>0</td>\n",
              "      <td>0</td>\n",
              "      <td>0</td>\n",
              "      <td>0</td>\n",
              "      <td>0</td>\n",
              "      <td>0</td>\n",
              "      <td>0</td>\n",
              "      <td>0</td>\n",
              "    </tr>\n",
              "    <tr>\n",
              "      <th>4</th>\n",
              "      <td>0</td>\n",
              "      <td>0</td>\n",
              "      <td>0</td>\n",
              "      <td>0</td>\n",
              "      <td>0</td>\n",
              "      <td>0</td>\n",
              "      <td>0</td>\n",
              "      <td>0</td>\n",
              "      <td>0</td>\n",
              "      <td>0</td>\n",
              "      <td>0</td>\n",
              "      <td>0</td>\n",
              "      <td>0</td>\n",
              "      <td>0</td>\n",
              "      <td>0</td>\n",
              "      <td>0</td>\n",
              "      <td>0</td>\n",
              "      <td>0</td>\n",
              "      <td>0</td>\n",
              "      <td>0</td>\n",
              "      <td>0</td>\n",
              "      <td>0</td>\n",
              "      <td>0</td>\n",
              "      <td>0</td>\n",
              "      <td>0</td>\n",
              "      <td>0</td>\n",
              "      <td>0</td>\n",
              "      <td>0</td>\n",
              "      <td>0</td>\n",
              "      <td>0</td>\n",
              "      <td>0</td>\n",
              "      <td>0</td>\n",
              "      <td>0</td>\n",
              "      <td>0</td>\n",
              "      <td>0</td>\n",
              "      <td>0</td>\n",
              "      <td>0</td>\n",
              "      <td>0</td>\n",
              "      <td>0</td>\n",
              "      <td>0</td>\n",
              "      <td>...</td>\n",
              "      <td>0</td>\n",
              "      <td>0</td>\n",
              "      <td>0</td>\n",
              "      <td>0</td>\n",
              "      <td>0</td>\n",
              "      <td>0</td>\n",
              "      <td>0</td>\n",
              "      <td>0</td>\n",
              "      <td>0</td>\n",
              "      <td>0</td>\n",
              "      <td>0</td>\n",
              "      <td>0</td>\n",
              "      <td>0</td>\n",
              "      <td>0</td>\n",
              "      <td>0</td>\n",
              "      <td>0</td>\n",
              "      <td>0</td>\n",
              "      <td>0</td>\n",
              "      <td>0</td>\n",
              "      <td>0</td>\n",
              "      <td>0</td>\n",
              "      <td>0</td>\n",
              "      <td>0</td>\n",
              "      <td>0</td>\n",
              "      <td>0</td>\n",
              "      <td>0</td>\n",
              "      <td>0</td>\n",
              "      <td>0</td>\n",
              "      <td>0</td>\n",
              "      <td>0</td>\n",
              "      <td>0</td>\n",
              "      <td>0</td>\n",
              "      <td>0</td>\n",
              "      <td>0</td>\n",
              "      <td>0</td>\n",
              "      <td>0</td>\n",
              "      <td>0</td>\n",
              "      <td>0</td>\n",
              "      <td>0</td>\n",
              "      <td>0</td>\n",
              "    </tr>\n",
              "  </tbody>\n",
              "</table>\n",
              "<p>5 rows × 4451 columns</p>\n",
              "</div>"
            ],
            "text/plain": [
              "   000  01am  10  100  101  11  ...  yup  zero  zone  zoned  zoning  zoom\n",
              "0    0     0   0    0    0   0  ...    0     0     0      0       0     0\n",
              "1    0     0   0    0    0   0  ...    0     0     0      0       0     0\n",
              "2    0     0   0    0    0   0  ...    0     0     0      0       0     0\n",
              "3    0     0   0    0    0   0  ...    0     0     0      0       0     0\n",
              "4    0     0   0    0    0   0  ...    0     0     0      0       0     0\n",
              "\n",
              "[5 rows x 4451 columns]"
            ]
          },
          "metadata": {
            "tags": []
          },
          "execution_count": 136
        }
      ]
    },
    {
      "cell_type": "code",
      "metadata": {
        "id": "OwKRGwlBJbwt"
      },
      "source": [
        "### Creating a python object of the class CountVectorizer\n",
        "\n",
        "bow_counts = CountVectorizer(tokenizer= word_tokenize, # type of tokenization\n",
        "                             stop_words=noise_words, # List of stopwords\n",
        "                             ngram_range=(1,1)) # number of n-grams\n",
        "\n",
        "bow_data = bow_counts.fit_transform(data['answer_text_new'])"
      ],
      "execution_count": 137,
      "outputs": []
    },
    {
      "cell_type": "code",
      "metadata": {
        "colab": {
          "base_uri": "https://localhost:8080/"
        },
        "id": "g_4wBmEoJ-KQ",
        "outputId": "c18a8b8c-09b2-449f-991e-07acfa2b9b0a"
      },
      "source": [
        "bow_data\n"
      ],
      "execution_count": 116,
      "outputs": [
        {
          "output_type": "execute_result",
          "data": {
            "text/plain": [
              "<3606x4474 sparse matrix of type '<class 'numpy.int64'>'\n",
              "\twith 75117 stored elements in Compressed Sparse Row format>"
            ]
          },
          "metadata": {
            "tags": []
          },
          "execution_count": 116
        }
      ]
    },
    {
      "cell_type": "code",
      "metadata": {
        "id": "l7OnQZ1ZKB9n"
      },
      "source": [
        "X_train_bow, X_test_bow, y_train_bow, y_test_bow = train_test_split(bow_data, # Features\n",
        "                                                                    data['rating'], # Target variable\n",
        "                                                                    test_size = 0.2, # 20% test size\n",
        "                                                                    random_state = 0) # random state for replication purposes"
      ],
      "execution_count": 138,
      "outputs": []
    },
    {
      "cell_type": "code",
      "metadata": {
        "colab": {
          "base_uri": "https://localhost:8080/"
        },
        "id": "JhSWK8UAKQ6Q",
        "outputId": "7329ad27-3d19-44b0-93ab-82f7f40800a7"
      },
      "source": [
        "y_test_bow.value_counts()/y_test_bow.shape[0]\n"
      ],
      "execution_count": 139,
      "outputs": [
        {
          "output_type": "execute_result",
          "data": {
            "text/plain": [
              "1.0    0.808864\n",
              "0.0    0.191136\n",
              "Name: rating, dtype: float64"
            ]
          },
          "metadata": {
            "tags": []
          },
          "execution_count": 139
        }
      ]
    },
    {
      "cell_type": "code",
      "metadata": {
        "colab": {
          "base_uri": "https://localhost:8080/"
        },
        "id": "8OoynHSRKxTp",
        "outputId": "0215c23e-6ebb-494b-ff85-3fe651b18921"
      },
      "source": [
        "# len(data[data['rating'] == '-'])\n",
        "len(data[data['rating'] == 2])\n"
      ],
      "execution_count": 140,
      "outputs": [
        {
          "output_type": "execute_result",
          "data": {
            "text/plain": [
              "0"
            ]
          },
          "metadata": {
            "tags": []
          },
          "execution_count": 140
        }
      ]
    },
    {
      "cell_type": "code",
      "metadata": {
        "id": "G4skllZHQUih"
      },
      "source": [
        "def clean_dataset(df):\n",
        "    assert isinstance(df, pd.DataFrame), \"df needs to be a pd.DataFrame\"\n",
        "    df.dropna(inplace=True)\n",
        "    indices_to_keep = ~df.isin([np.nan, np.inf, -np.inf]).any(1)\n",
        "    return df[indices_to_keep].astype(np.float64)"
      ],
      "execution_count": 142,
      "outputs": []
    },
    {
      "cell_type": "code",
      "metadata": {
        "colab": {
          "base_uri": "https://localhost:8080/"
        },
        "id": "LGXqqXJO3_4k",
        "outputId": "9c35393f-c40e-43ef-c417-a5a022e4d946"
      },
      "source": [
        "X_train_bow.shape"
      ],
      "execution_count": 143,
      "outputs": [
        {
          "output_type": "execute_result",
          "data": {
            "text/plain": [
              "(2884, 4474)"
            ]
          },
          "metadata": {
            "tags": []
          },
          "execution_count": 143
        }
      ]
    },
    {
      "cell_type": "code",
      "metadata": {
        "colab": {
          "base_uri": "https://localhost:8080/"
        },
        "id": "ZB6CsWGx4At3",
        "outputId": "bcdc3048-793b-4dc9-f2d1-19161d1dd1fe"
      },
      "source": [
        "y_train_bow.shape"
      ],
      "execution_count": 144,
      "outputs": [
        {
          "output_type": "execute_result",
          "data": {
            "text/plain": [
              "(2884,)"
            ]
          },
          "metadata": {
            "tags": []
          },
          "execution_count": 144
        }
      ]
    },
    {
      "cell_type": "code",
      "metadata": {
        "id": "fW55JN977p7y"
      },
      "source": [
        "# np.isnan(X_train_bow).any(), np.isnan(y_train_bow).any(), np.isnan(X_test_bow).any()\n",
        "# data.isnull().any()\n"
      ],
      "execution_count": 145,
      "outputs": []
    },
    {
      "cell_type": "code",
      "metadata": {
        "id": "8_F0OBaO8KHX"
      },
      "source": [
        "# data1 = data.dropna()\n"
      ],
      "execution_count": 104,
      "outputs": []
    },
    {
      "cell_type": "code",
      "metadata": {
        "colab": {
          "base_uri": "https://localhost:8080/"
        },
        "id": "7rHLz9w68Nrs",
        "outputId": "627307f5-ab1f-499b-e75b-e53c8998038b"
      },
      "source": [
        "type(X_train_bow)\n"
      ],
      "execution_count": 126,
      "outputs": [
        {
          "output_type": "execute_result",
          "data": {
            "text/plain": [
              "scipy.sparse.csr.csr_matrix"
            ]
          },
          "metadata": {
            "tags": []
          },
          "execution_count": 126
        }
      ]
    },
    {
      "cell_type": "code",
      "metadata": {
        "colab": {
          "base_uri": "https://localhost:8080/"
        },
        "id": "oQrcL3la9xHz",
        "outputId": "2f6b75b8-ff34-4ee5-cf59-13621ec81128"
      },
      "source": [
        "type(y_train_bow)\n"
      ],
      "execution_count": 127,
      "outputs": [
        {
          "output_type": "execute_result",
          "data": {
            "text/plain": [
              "pandas.core.series.Series"
            ]
          },
          "metadata": {
            "tags": []
          },
          "execution_count": 127
        }
      ]
    },
    {
      "cell_type": "code",
      "metadata": {
        "colab": {
          "base_uri": "https://localhost:8080/"
        },
        "id": "iLTKo3mJ-YHx",
        "outputId": "4a08f859-e81d-471f-a9ad-6260aa9a6378"
      },
      "source": [
        "data.isnull().any() "
      ],
      "execution_count": 128,
      "outputs": [
        {
          "output_type": "execute_result",
          "data": {
            "text/plain": [
              "Unnamed: 0                                               False\n",
              "Question                                                 False\n",
              "Answer                                                   False\n",
              "Sentiment (Positive / Negative / Neutral / Ambiguous)    False\n",
              "answer_text_new                                          False\n",
              "answer_text_nonstop                                      False\n",
              "rating                                                   False\n",
              "dtype: bool"
            ]
          },
          "metadata": {
            "tags": []
          },
          "execution_count": 128
        }
      ]
    },
    {
      "cell_type": "markdown",
      "metadata": {
        "id": "OGIpzkg_KfjT"
      },
      "source": [
        "Applying logistic regression"
      ]
    },
    {
      "cell_type": "code",
      "metadata": {
        "colab": {
          "base_uri": "https://localhost:8080/"
        },
        "id": "9rZ1W2zzKS_p",
        "outputId": "58ea3576-c6e0-41e1-d6a9-da23676851d7"
      },
      "source": [
        "### Training the model \n",
        "lr_model_all = LogisticRegression() # Logistic regression\n",
        "lr_model_all.fit(X_train_bow, y_train_bow) # Fitting a logistic regression model\n",
        "\n",
        "## Predicting the output\n",
        "test_pred_lr_all = lr_model_all.predict(X_test_bow) # Class prediction\n",
        "\n",
        "## Calculate key performance metrics\n",
        "print(\"F1 score: \", f1_score(y_test_bow, test_pred_lr_all))"
      ],
      "execution_count": 146,
      "outputs": [
        {
          "output_type": "stream",
          "text": [
            "F1 score:  0.9157808667211773\n"
          ],
          "name": "stdout"
        }
      ]
    },
    {
      "cell_type": "code",
      "metadata": {
        "id": "pSf66kiXKlaJ"
      },
      "source": [
        "### Changes with respect to the previous code\n",
        "### 1. Increasing the n-grams from just having 1-gram to (1-gram, 2-gram, 3-gram, and 4-gram)\n",
        "### 2. Including the stopwords in the bag of words features\n",
        "\n",
        "bow_counts = CountVectorizer(tokenizer= word_tokenize,\n",
        "                             ngram_range=(1,4))\n",
        "\n",
        "bow_data = bow_counts.fit_transform(data.answer_text_new)"
      ],
      "execution_count": 147,
      "outputs": []
    },
    {
      "cell_type": "code",
      "metadata": {
        "colab": {
          "base_uri": "https://localhost:8080/"
        },
        "id": "G5yNJfz8_SMB",
        "outputId": "de3f5ef6-1a69-4450-c3a6-0f0ac96a0190"
      },
      "source": [
        "# Notice the increase in features with inclusion of n-grams\n",
        "bow_data"
      ],
      "execution_count": 148,
      "outputs": [
        {
          "output_type": "execute_result",
          "data": {
            "text/plain": [
              "<3606x181976 sparse matrix of type '<class 'numpy.int64'>'\n",
              "\twith 329656 stored elements in Compressed Sparse Row format>"
            ]
          },
          "metadata": {
            "tags": []
          },
          "execution_count": 148
        }
      ]
    },
    {
      "cell_type": "code",
      "metadata": {
        "id": "S98eAe6c_1kn"
      },
      "source": [
        "X_train_bow, X_test_bow, y_train_bow, y_test_bow = train_test_split(bow_data,\n",
        "                                                                    data['rating'],\n",
        "                                                                    test_size = 0.2,\n",
        "                                                                    random_state = 0)"
      ],
      "execution_count": 150,
      "outputs": []
    },
    {
      "cell_type": "code",
      "metadata": {
        "colab": {
          "base_uri": "https://localhost:8080/"
        },
        "id": "0mn1kYjt_7Gu",
        "outputId": "28d953a3-ab95-4b60-ef50-ccd059a1af2a"
      },
      "source": [
        "# Defining and training the model\n",
        "lr_model_all_new = LogisticRegression(max_iter = 200)\n",
        "lr_model_all_new.fit(X_train_bow, y_train_bow)\n",
        "\n",
        "# Predicting the results\n",
        "test_pred_lr_all = lr_model_all_new.predict(X_test_bow)\n",
        "\n",
        "print(\"F1 score: \", f1_score(y_test_bow,test_pred_lr_all))"
      ],
      "execution_count": 151,
      "outputs": [
        {
          "output_type": "stream",
          "text": [
            "F1 score:  0.9140127388535032\n"
          ],
          "name": "stdout"
        }
      ]
    },
    {
      "cell_type": "code",
      "metadata": {
        "colab": {
          "base_uri": "https://localhost:8080/",
          "height": 514
        },
        "id": "JaV2SdNqABvI",
        "outputId": "33abc439-dbfe-4fbe-950d-7e5d81605148"
      },
      "source": [
        "lr_weights = pd.DataFrame(list(zip(bow_counts.get_feature_names(), # ge tall the n-gram feature names\n",
        "                                   lr_model_all_new.coef_[0])), # get the logistic regression coefficients\n",
        "                          columns= ['words','weights']) # defining the colunm names\n",
        "\n",
        "lr_weights.sort_values(['weights'], ascending = False)[:15] # top-15 more important features for positive reviews"
      ],
      "execution_count": 152,
      "outputs": [
        {
          "output_type": "execute_result",
          "data": {
            "text/html": [
              "<div>\n",
              "<style scoped>\n",
              "    .dataframe tbody tr th:only-of-type {\n",
              "        vertical-align: middle;\n",
              "    }\n",
              "\n",
              "    .dataframe tbody tr th {\n",
              "        vertical-align: top;\n",
              "    }\n",
              "\n",
              "    .dataframe thead th {\n",
              "        text-align: right;\n",
              "    }\n",
              "</style>\n",
              "<table border=\"1\" class=\"dataframe\">\n",
              "  <thead>\n",
              "    <tr style=\"text-align: right;\">\n",
              "      <th></th>\n",
              "      <th>words</th>\n",
              "      <th>weights</th>\n",
              "    </tr>\n",
              "  </thead>\n",
              "  <tbody>\n",
              "    <tr>\n",
              "      <th>59623</th>\n",
              "      <td>great</td>\n",
              "      <td>1.498211</td>\n",
              "    </tr>\n",
              "    <tr>\n",
              "      <th>58397</th>\n",
              "      <td>good</td>\n",
              "      <td>1.032406</td>\n",
              "    </tr>\n",
              "    <tr>\n",
              "      <th>66107</th>\n",
              "      <td>helpful</td>\n",
              "      <td>0.863071</td>\n",
              "    </tr>\n",
              "    <tr>\n",
              "      <th>180741</th>\n",
              "      <td>yes</td>\n",
              "      <td>0.835570</td>\n",
              "    </tr>\n",
              "    <tr>\n",
              "      <th>6075</th>\n",
              "      <td>all</td>\n",
              "      <td>0.726934</td>\n",
              "    </tr>\n",
              "    <tr>\n",
              "      <th>65830</th>\n",
              "      <td>helped</td>\n",
              "      <td>0.686711</td>\n",
              "    </tr>\n",
              "    <tr>\n",
              "      <th>90350</th>\n",
              "      <td>made</td>\n",
              "      <td>0.680770</td>\n",
              "    </tr>\n",
              "    <tr>\n",
              "      <th>172238</th>\n",
              "      <td>well</td>\n",
              "      <td>0.652225</td>\n",
              "    </tr>\n",
              "    <tr>\n",
              "      <th>48394</th>\n",
              "      <td>excellent</td>\n",
              "      <td>0.640127</td>\n",
              "    </tr>\n",
              "    <tr>\n",
              "      <th>43489</th>\n",
              "      <td>easy</td>\n",
              "      <td>0.634479</td>\n",
              "    </tr>\n",
              "    <tr>\n",
              "      <th>165252</th>\n",
              "      <td>very</td>\n",
              "      <td>0.584654</td>\n",
              "    </tr>\n",
              "    <tr>\n",
              "      <th>138485</th>\n",
              "      <td>teacher</td>\n",
              "      <td>0.571516</td>\n",
              "    </tr>\n",
              "    <tr>\n",
              "      <th>116121</th>\n",
              "      <td>professor</td>\n",
              "      <td>0.542773</td>\n",
              "    </tr>\n",
              "    <tr>\n",
              "      <th>99168</th>\n",
              "      <td>needed</td>\n",
              "      <td>0.525669</td>\n",
              "    </tr>\n",
              "    <tr>\n",
              "      <th>119045</th>\n",
              "      <td>questions</td>\n",
              "      <td>0.524704</td>\n",
              "    </tr>\n",
              "  </tbody>\n",
              "</table>\n",
              "</div>"
            ],
            "text/plain": [
              "            words   weights\n",
              "59623       great  1.498211\n",
              "58397        good  1.032406\n",
              "66107     helpful  0.863071\n",
              "180741        yes  0.835570\n",
              "6075          all  0.726934\n",
              "65830      helped  0.686711\n",
              "90350        made  0.680770\n",
              "172238       well  0.652225\n",
              "48394   excellent  0.640127\n",
              "43489        easy  0.634479\n",
              "165252       very  0.584654\n",
              "138485    teacher  0.571516\n",
              "116121  professor  0.542773\n",
              "99168      needed  0.525669\n",
              "119045  questions  0.524704"
            ]
          },
          "metadata": {
            "tags": []
          },
          "execution_count": 152
        }
      ]
    },
    {
      "cell_type": "code",
      "metadata": {
        "colab": {
          "base_uri": "https://localhost:8080/",
          "height": 514
        },
        "id": "ync8BDE0ANCX",
        "outputId": "cceb6060-781e-4275-c657-5bffdc111e43"
      },
      "source": [
        "lr_weights.sort_values(['weights'], ascending = False)[-15:] # top-15 more important features for negative reviews\n"
      ],
      "execution_count": 153,
      "outputs": [
        {
          "output_type": "execute_result",
          "data": {
            "text/html": [
              "<div>\n",
              "<style scoped>\n",
              "    .dataframe tbody tr th:only-of-type {\n",
              "        vertical-align: middle;\n",
              "    }\n",
              "\n",
              "    .dataframe tbody tr th {\n",
              "        vertical-align: top;\n",
              "    }\n",
              "\n",
              "    .dataframe thead th {\n",
              "        text-align: right;\n",
              "    }\n",
              "</style>\n",
              "<table border=\"1\" class=\"dataframe\">\n",
              "  <thead>\n",
              "    <tr style=\"text-align: right;\">\n",
              "      <th></th>\n",
              "      <th>words</th>\n",
              "      <th>weights</th>\n",
              "    </tr>\n",
              "  </thead>\n",
              "  <tbody>\n",
              "    <tr>\n",
              "      <th>130255</th>\n",
              "      <td>slower</td>\n",
              "      <td>-0.701205</td>\n",
              "    </tr>\n",
              "    <tr>\n",
              "      <th>128917</th>\n",
              "      <td>should</td>\n",
              "      <td>-0.703921</td>\n",
              "    </tr>\n",
              "    <tr>\n",
              "      <th>109512</th>\n",
              "      <td>others</td>\n",
              "      <td>-0.712730</td>\n",
              "    </tr>\n",
              "    <tr>\n",
              "      <th>61764</th>\n",
              "      <td>hard to</td>\n",
              "      <td>-0.730759</td>\n",
              "    </tr>\n",
              "    <tr>\n",
              "      <th>21721</th>\n",
              "      <td>awful professor</td>\n",
              "      <td>-0.757224</td>\n",
              "    </tr>\n",
              "    <tr>\n",
              "      <th>21720</th>\n",
              "      <td>awful</td>\n",
              "      <td>-0.757224</td>\n",
              "    </tr>\n",
              "    <tr>\n",
              "      <th>136814</th>\n",
              "      <td>t</td>\n",
              "      <td>-0.887354</td>\n",
              "    </tr>\n",
              "    <tr>\n",
              "      <th>95372</th>\n",
              "      <td>more examples</td>\n",
              "      <td>-0.916860</td>\n",
              "    </tr>\n",
              "    <tr>\n",
              "      <th>34569</th>\n",
              "      <td>confusing</td>\n",
              "      <td>-1.002155</td>\n",
              "    </tr>\n",
              "    <tr>\n",
              "      <th>160051</th>\n",
              "      <td>too</td>\n",
              "      <td>-1.064575</td>\n",
              "    </tr>\n",
              "    <tr>\n",
              "      <th>61682</th>\n",
              "      <td>hard</td>\n",
              "      <td>-1.188473</td>\n",
              "    </tr>\n",
              "    <tr>\n",
              "      <th>39998</th>\n",
              "      <td>difficult</td>\n",
              "      <td>-1.272753</td>\n",
              "    </tr>\n",
              "    <tr>\n",
              "      <th>100475</th>\n",
              "      <td>not</td>\n",
              "      <td>-1.299607</td>\n",
              "    </tr>\n",
              "    <tr>\n",
              "      <th>100083</th>\n",
              "      <td>no</td>\n",
              "      <td>-1.364734</td>\n",
              "    </tr>\n",
              "    <tr>\n",
              "      <th>87595</th>\n",
              "      <td>less</td>\n",
              "      <td>-1.470963</td>\n",
              "    </tr>\n",
              "  </tbody>\n",
              "</table>\n",
              "</div>"
            ],
            "text/plain": [
              "                  words   weights\n",
              "130255           slower -0.701205\n",
              "128917           should -0.703921\n",
              "109512           others -0.712730\n",
              "61764           hard to -0.730759\n",
              "21721   awful professor -0.757224\n",
              "21720             awful -0.757224\n",
              "136814                t -0.887354\n",
              "95372     more examples -0.916860\n",
              "34569         confusing -1.002155\n",
              "160051              too -1.064575\n",
              "61682              hard -1.188473\n",
              "39998         difficult -1.272753\n",
              "100475              not -1.299607\n",
              "100083               no -1.364734\n",
              "87595              less -1.470963"
            ]
          },
          "metadata": {
            "tags": []
          },
          "execution_count": 153
        }
      ]
    },
    {
      "cell_type": "markdown",
      "metadata": {
        "id": "aOMSY3kEAYre"
      },
      "source": [
        "**TF-IDF model**"
      ]
    },
    {
      "cell_type": "code",
      "metadata": {
        "id": "Ugt_94UfATRl"
      },
      "source": [
        "from sklearn.feature_extraction.text import TfidfVectorizer\n",
        "\n",
        "### Creating a python object of the class CountVectorizer\n",
        "tfidf_counts = TfidfVectorizer(tokenizer= word_tokenize, # type of tokenization\n",
        "                               stop_words=noise_words, # List of stopwords\n",
        "                               ngram_range=(1,1)) # number of n-grams\n",
        "\n",
        "tfidf_data = tfidf_counts.fit_transform(data['answer_text_new'])"
      ],
      "execution_count": 154,
      "outputs": []
    },
    {
      "cell_type": "code",
      "metadata": {
        "colab": {
          "base_uri": "https://localhost:8080/"
        },
        "id": "IGAAlt2xAhNx",
        "outputId": "bc722d0f-4009-4bf8-8f90-6e41fd3a7331"
      },
      "source": [
        "tfidf_data\n"
      ],
      "execution_count": 155,
      "outputs": [
        {
          "output_type": "execute_result",
          "data": {
            "text/plain": [
              "<3606x4474 sparse matrix of type '<class 'numpy.float64'>'\n",
              "\twith 75117 stored elements in Compressed Sparse Row format>"
            ]
          },
          "metadata": {
            "tags": []
          },
          "execution_count": 155
        }
      ]
    },
    {
      "cell_type": "code",
      "metadata": {
        "id": "y9V5WK-AAj8m"
      },
      "source": [
        "X_train_tfidf, X_test_tfidf, y_train_tfidf, y_test_tfidf = train_test_split(tfidf_data,\n",
        "                                                                            data['rating'],\n",
        "                                                                            test_size = 0.2,\n",
        "                                                                            random_state = 0)"
      ],
      "execution_count": 156,
      "outputs": []
    },
    {
      "cell_type": "markdown",
      "metadata": {
        "id": "XO9WxlNfAq3s"
      },
      "source": [
        "Applying logistic regression to TF-IDF features"
      ]
    },
    {
      "cell_type": "code",
      "metadata": {
        "colab": {
          "base_uri": "https://localhost:8080/"
        },
        "id": "epfCj4b2Anxu",
        "outputId": "f5563f22-a9f1-4bb9-a16c-1ad1549e17ed"
      },
      "source": [
        "### Setting up the model class\n",
        "lr_model_tf_idf = LogisticRegression()\n",
        "\n",
        "## Training the model \n",
        "lr_model_tf_idf.fit(X_train_tfidf,y_train_tfidf)\n",
        "\n",
        "## Prediciting the results\n",
        "test_pred_lr_all = lr_model_tf_idf.predict(X_test_tfidf)\n",
        "\n",
        "## Evaluating the model\n",
        "print(\"F1 score: \",f1_score(y_test_bow, test_pred_lr_all))"
      ],
      "execution_count": 157,
      "outputs": [
        {
          "output_type": "stream",
          "text": [
            "F1 score:  0.9002320185614848\n"
          ],
          "name": "stdout"
        }
      ]
    },
    {
      "cell_type": "markdown",
      "metadata": {
        "id": "2HCbBqJOAyCe"
      },
      "source": [
        "**Word embeddings model**"
      ]
    },
    {
      "cell_type": "code",
      "metadata": {
        "id": "X396PHdmAuW1"
      },
      "source": [
        "from IPython.display import Image\n",
        "from IPython.core.display import HTML"
      ],
      "execution_count": 158,
      "outputs": []
    },
    {
      "cell_type": "code",
      "metadata": {
        "id": "fhLQcjcdA3XV"
      },
      "source": [
        ""
      ],
      "execution_count": 159,
      "outputs": []
    },
    {
      "cell_type": "code",
      "metadata": {
        "id": "aQqYxLoOBo17"
      },
      "source": [
        ""
      ],
      "execution_count": null,
      "outputs": []
    }
  ]
}